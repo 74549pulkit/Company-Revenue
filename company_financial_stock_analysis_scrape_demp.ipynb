{
 "cells": [
  {
   "cell_type": "code",
   "execution_count": 6,
   "metadata": {},
   "outputs": [],
   "source": [
    "import requests\n",
    "from bs4 import BeautifulSoup\n",
    "import pandas as pd\n",
    "import os\n",
    "from selenium import webdriver\n",
    "from selenium.webdriver.common.by import By\n",
    "from selenium.webdriver.common.keys import Keys\n",
    "from selenium.webdriver.support.ui import WebDriverWait\n",
    "from selenium.webdriver.support import expected_conditions as EC\n"
   ]
  },
  {
   "cell_type": "code",
   "execution_count": 7,
   "metadata": {},
   "outputs": [],
   "source": [
    "\n",
    "# Set up WebDriver (ensure you have the correct driver installed, e.g., chromedriver)\n",
    "driver = webdriver.Chrome()  # Or use Edge, Firefox, etc.\n",
    "q=\"Quarterly\"\n",
    "# Open the URL\n",
    "url =\" https://stockanalysis.com/stocks/ABP/financials/?p=quarterly\" \n",
    "driver.get(url)\n",
    "\n",
    "\n",
    "try:\n",
    "    # Locate the dropdown button using both class and title attributes\n",
    "    dropdown_button = WebDriverWait(driver, 10).until(\n",
    "        EC.element_to_be_clickable((By.XPATH, \"//button[@class='controls-btn' and @title='Change number units']\"))\n",
    "    )\n",
    "    dropdown_button.click() \n",
    "    \n",
    "    # Step 2: Wait for the Dropdown Menu to Appear\n",
    "    dropdown_menu = WebDriverWait(driver, 5).until(\n",
    "        EC.presence_of_element_located((By.XPATH, \"//div[contains(@class, 'absolute z-40')]\"))\n",
    "    )\n",
    "\n",
    "    # Step 3: Click on the \"Raw\" Option\n",
    "    raw_option = WebDriverWait(driver, 5).until(\n",
    "        EC.element_to_be_clickable((By.XPATH, \"//button[contains(text(), 'Raw')]\"))\n",
    "    )\n",
    "    raw_option.click()  # Select \"Raw\"\n",
    "\n",
    "    \n",
    "\n",
    "    # Wait for the table to update (optional: sleep for a few seconds)\n",
    "    WebDriverWait(driver, 5).until(\n",
    "        EC.presence_of_element_located((By.TAG_NAME, \"table\"))\n",
    "    )\n",
    "\n",
    "    # Now, you can proceed to scrape the updated table data using BeautifulSoup or Selenium\n",
    "    page_source = driver.page_source\n",
    "\n",
    "finally:\n",
    "    driver.quit()"
   ]
  },
  {
   "cell_type": "code",
   "execution_count": 11,
   "metadata": {},
   "outputs": [],
   "source": [
    "from selenium import webdriver\n",
    "from selenium.webdriver.common.by import By\n",
    "from selenium.webdriver.support.ui import WebDriverWait\n",
    "from selenium.webdriver.support import expected_conditions as EC\n",
    "\n",
    "import time\n",
    "from urllib.parse import urlparse, parse_qs\n",
    "\n",
    "# Set up WebDriver\n",
    "driver = webdriver.Chrome()  # Or use Edge, Firefox, etc.\n",
    "\n",
    "# Open the URL\n",
    "url = \"https://stockanalysis.com/stocks/ABP/financials/?p=annual\"\n",
    "driver.get(url)\n",
    "\n",
    "try:\n",
    "\n",
    "    if \"quarterly\" in url.lower():\n",
    "        # Check if 'quarterly' is in the URL\n",
    "        parsed_url = urlparse(driver.current_url)\n",
    "        query_params = parse_qs(parsed_url.query)\n",
    "        \n",
    "        if 'p' not in query_params or query_params['p'][0].lower() != 'quarterly':\n",
    "            # If 'quarterly' is not in URL, click the Quarterly button\n",
    "            quarterly_button = WebDriverWait(driver, 10).until(\n",
    "                EC.element_to_be_clickable((By.XPATH, \"//ul[contains(@class, 'navmenu submenu')]//button[text()='Quarterly']\"))\n",
    "            )\n",
    "            quarterly_button.click()\n",
    "            \n",
    "            # Wait for URL to update\n",
    "            WebDriverWait(driver, 10).until(\n",
    "                lambda driver: 'quarterly' in driver.current_url.lower()\n",
    "            )\n",
    "    \n",
    "    # Proceed with the rest of your scraping logic\n",
    "    # Locate the dropdown button\n",
    "    dropdown_button = WebDriverWait(driver, 10).until(\n",
    "        EC.element_to_be_clickable((By.XPATH, \"//button[@class='controls-btn' and @title='Change number units']\"))\n",
    "    )\n",
    "    dropdown_button.click()\n",
    "    \n",
    "    # Wait for the Dropdown Menu to Appear\n",
    "    dropdown_menu = WebDriverWait(driver, 5).until(\n",
    "        EC.presence_of_element_located((By.XPATH, \"//div[contains(@class, 'absolute z-40')]\"))\n",
    "    )\n",
    "\n",
    "    # Click on the \"Raw\" Option\n",
    "    raw_option = WebDriverWait(driver, 5).until(\n",
    "        EC.element_to_be_clickable((By.XPATH, \"//button[contains(text(), 'Raw')]\"))\n",
    "    )\n",
    "    raw_option.click()\n",
    "\n",
    "    # Wait for the table to update\n",
    "    WebDriverWait(driver, 5).until(\n",
    "        EC.presence_of_element_located((By.TAG_NAME, \"table\"))\n",
    "    )\n",
    "\n",
    "    # Get the updated page source\n",
    "    page_source = driver.page_source\n",
    "\n",
    "except Exception as e:\n",
    "    print(f\"An error occurred: {str(e)}\")\n",
    "    \n",
    "finally:\n",
    "    time.sleep(5)\n",
    "    driver.quit()"
   ]
  },
  {
   "cell_type": "code",
   "execution_count": 7,
   "metadata": {},
   "outputs": [],
   "source": [
    "soup = BeautifulSoup(page_source, 'html.parser')"
   ]
  },
  {
   "cell_type": "code",
   "execution_count": 19,
   "metadata": {},
   "outputs": [
    {
     "name": "stdout",
     "output_type": "stream",
     "text": [
      "Financials in EUR\n",
      "Fiscal year is January - December\n"
     ]
    }
   ],
   "source": [
    "element = soup.find('div', class_=\"hidden pb-1 text-sm text-faded lg:block\")\n",
    "if element:\n",
    "\tcurrency_fiscal = element.text.split('.')\n",
    "\tif currency_fiscal:\n",
    "\t\tcurrency = currency_fiscal[0].strip()\n",
    "\telse:\n",
    "\t\tcurrency = \"N/A\"\n",
    "\tif len(currency_fiscal) > 1:\n",
    "\t\tfiscal_year = currency_fiscal[1].strip()\n",
    "\telse:\n",
    "\t\tfiscal_year = \"N/A\"\n",
    "else:\n",
    "\tprint(\"Element not found\")\n",
    "\tcurrency = \"N/A\"\n",
    "\tfiscal_year = \"N/A\"\n",
    "\n",
    "print(currency)\n",
    "print(fiscal_year)"
   ]
  },
  {
   "cell_type": "code",
   "execution_count": null,
   "metadata": {},
   "outputs": [],
   "source": [
    "{'text': 'what is the contribution of country germany in year 2023 for product forxiga', 'intent': {'name': 'forecast_info', 'confidence': 0.9946617484092712}, 'entities': [{'entity': 'Contribution', 'start': 12, 'end': 24, 'confidence_entity': 0.95942622423172, 'value': 'contribution', 'extractor': 'DIETClassifier'}, {'entity': 'group_by', 'start': 28, 'end': 35, 'confidence_entity': 0.9553391933441162, 'value': 'country', 'extractor': 'DIETClassifier'}, {'entity': 'Country', 'start': 36, 'end': 43, 'confidence_entity': 0.9881525635719299, 'value': 'germany', 'extractor': 'DIETClassifier'}, {'entity': 'Year', 'start': 52, 'end': 56, 'confidence_entity': 0.8868333697319031, 'value': '2023', 'extractor': 'DIETClassifier'}, {'entity': 'Product_Name', 'start': 69, 'end': 76, 'confidence_entity': 0.9947168231010437, 'value': 'forxiga', 'extractor': 'DIETClassifier'}, {'entity': 'Contribution', 'value': 'contribution', 'extractor': 'SpacyEntityExtractor'}, {'entity': 'Group_By', 'value': 'country', 'extractor': 'SpacyEntityExtractor'}, {'entity': 'Country', 'value': 'germany', 'extractor': 'SpacyEntityExtractor'}, {'entity': 'Group_By', 'value': 'year', 'extractor': 'SpacyEntityExtractor'}, {'entity': 'Year', 'value': '2023', 'extractor': 'SpacyEntityExtractor'}, {'entity': 'Group_By', 'value': 'product', 'extractor': 'SpacyEntityExtractor'}, {'entity': 'Product_Name', 'value': 'forxiga', 'extractor': 'SpacyEntityExtractor'}], 'text_tokens': [[0, 4], [5, 7], [8, 11], [12, 24], [25, 27], [28, 35], [36, 43], [44, 46], [47, 51], [52, 56], [57, 60], [61, 68], [69, 76]], 'intent_ranking': [{'name': 'forecast_info', 'confidence': 0.9946617484092712}, {'name': 'forecast_low', 'confidence': 0.004391669761389494}, {'name': 'forecast_high', 'confidence': 0.0006856152322143316}, {'name': 'forecast_compare', 'confidence': 9.043628961080685e-05}, {'name': 'calls_info', 'confidence': 3.9620263123651966e-05}, {'name': 'forecast_waterfall', 'confidence': 3.83240039809607e-05}, {'name': 'sales_high', 'confidence': 2.3633285309188068e-05}, {'name': 'sales_low', 'confidence': 1.8592856577015482e-05}, {'name': 'fallback_question', 'confidence': 1.7895519704325125e-05}, {'name': 'not_understand', 'confidence': 1.4204881154000759e-05}]}"
   ]
  },
  {
   "cell_type": "code",
   "execution_count": null,
   "metadata": {},
   "outputs": [],
   "source": [
    "d1={'entities': \n",
    "\t[\n",
    "\t\t{'entity': 'Contribution', 'start': 12, 'end': 24, 'confidence_entity': 0.95942622423172, 'value': 'contribution', 'extractor': 'DIETClassifier'},\n",
    "\t\t {'entity': 'group_by', 'start': 28, 'end': 35, 'confidence_entity': 0.9553391933441162, 'value': 'country', 'extractor': 'DIETClassifier'},\t\t{'entity': 'Country', 'start': 36, 'end': 43, 'confidence_entity': 0.9881525635719299, 'value': 'germany', 'extractor': 'DIETClassifier'}, \t\t\t{'entity': 'Year', 'start': 52, 'end': 56, 'confidence_entity': 0.8868333697319031, 'value': '2023', 'extractor': 'DIETClassifier'}, \t\t{'entity': 'Product_Name', 'start': 69, 'end': 76, 'confidence_entity': 0.9947168231010437, 'value': 'forxiga', 'extractor': 'DIETClassifier'}, \n",
    "\t\t{'entity': 'Contribution', 'value': 'contribution', 'extractor': 'SpacyEntityExtractor'}, \n",
    "\t\t{'entity': 'Group_By', 'value': 'country', 'extractor': 'SpacyEntityExtractor'}, \n",
    "\t\t{'entity': 'Country', 'value': 'germany', 'extractor': 'SpacyEntityExtractor'}, \n",
    "\t\t{'entity': 'Group_By', 'value': 'year', 'extractor': 'SpacyEntityExtractor'}, \n",
    "\t\t{'entity': 'Year', 'value': '2023', 'extractor': 'SpacyEntityExtractor'}, \n",
    "\t\t{'entity': 'Group_By', 'value': 'product', 'extractor': 'SpacyEntityExtractor'}, \n",
    "\t\t{'entity': 'Product_Name', 'value': 'forxiga', 'extractor': 'SpacyEntityExtractor'}]}"
   ]
  },
  {
   "cell_type": "code",
   "execution_count": null,
   "metadata": {},
   "outputs": [],
   "source": [
    "print(type(d1)) "
   ]
  },
  {
   "cell_type": "code",
   "execution_count": null,
   "metadata": {},
   "outputs": [],
   "source": [
    "if file.endswith(\".csv\"):\n",
    "            df = pd.read_csv(file_path, header=None)\n",
    "        else:\n",
    "            df = pd.read_excel(file_path)\n",
    "\n",
    "        # Extract \"Fiscal Year\", \"Period Ending\", and \"Revenue\"\n",
    "        fiscal_years = df.iloc[0, 1:].values.tolist()  # First row contains Fiscal Years\n",
    "        period_ending = df.iloc[1, 1:].values.tolist()  # Second row contains Period Ending\n",
    "        revenue_row = df[df.iloc[:, 0] == \"Revenue\"]\n",
    "        currency_row = df.iloc[:,8][3]\n",
    "\n",
    "\n",
    "        if not revenue_row.empty:\n",
    "            revenue_values = revenue_row.iloc[:, 1:].values.flatten().tolist()\n",
    "            \n",
    "            # Store extracted data\n",
    "            for i in range(len(fiscal_years)):  # Loop through each fiscal year column\n",
    "                financial_data.append({\n",
    "                    \"Company\": company_symbol,\n",
    "                    \"Frequency\": frequency,\n",
    "                    \"Fiscal Year\": fiscal_years[i],\n",
    "                    \"Period Ending\": period_ending[i],\n",
    "                    \"Revenue\": revenue_values[i] if i < len(revenue_values) else None\n",
    "                })\n",
    "\n",
    "# Convert to DataFrame for better visualization\n",
    "financial_df = pd.DataFrame(financial_data)\n"
   ]
  },
  {
   "cell_type": "code",
   "execution_count": 3,
   "metadata": {},
   "outputs": [],
   "source": [
    "file_path = r\"D:\\Vscode\\Company_revenue\\company_revenue_v4\\BDPT_annual_financial_data.csv\"\n",
    "df = pd.read_csv(file_path, header=None)"
   ]
  },
  {
   "cell_type": "code",
   "execution_count": 4,
   "metadata": {},
   "outputs": [],
   "source": [
    "# Extract \"Fiscal Year\", \"Period Ending\", and \"Revenue\"\n",
    "fiscal_years = df.iloc[0, 1:].values.tolist()  # First row contains Fiscal Years\n",
    "period_ending = df.iloc[1, 1:].values.tolist()  # Second row contains Period Ending\n",
    "revenue_row = df[df.iloc[:, 0] == \"Revenue\"]"
   ]
  },
  {
   "cell_type": "code",
   "execution_count": null,
   "metadata": {},
   "outputs": [],
   "source": []
  }
 ],
 "metadata": {
  "kernelspec": {
   "display_name": "base",
   "language": "python",
   "name": "python3"
  },
  "language_info": {
   "codemirror_mode": {
    "name": "ipython",
    "version": 3
   },
   "file_extension": ".py",
   "mimetype": "text/x-python",
   "name": "python",
   "nbconvert_exporter": "python",
   "pygments_lexer": "ipython3",
   "version": "3.12.7"
  }
 },
 "nbformat": 4,
 "nbformat_minor": 2
}
